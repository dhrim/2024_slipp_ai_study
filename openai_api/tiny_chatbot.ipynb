{
 "cells": [
  {
   "cell_type": "markdown",
   "metadata": {},
   "source": [
    "# openai 라이브러리 설치"
   ]
  },
  {
   "cell_type": "code",
   "execution_count": 1,
   "metadata": {},
   "outputs": [
    {
     "name": "stdout",
     "output_type": "stream",
     "text": [
      "Requirement already satisfied: openai in /usr/local/python/3.10.8/lib/python3.10/site-packages (0.28.0)\n",
      "Requirement already satisfied: requests>=2.20 in /home/codespace/.local/lib/python3.10/site-packages (from openai) (2.31.0)\n",
      "Requirement already satisfied: tqdm in /usr/local/python/3.10.8/lib/python3.10/site-packages (from openai) (4.66.1)\n",
      "Requirement already satisfied: aiohttp in /usr/local/python/3.10.8/lib/python3.10/site-packages (from openai) (3.8.5)\n",
      "Requirement already satisfied: charset-normalizer<4,>=2 in /home/codespace/.local/lib/python3.10/site-packages (from requests>=2.20->openai) (3.2.0)\n",
      "Requirement already satisfied: idna<4,>=2.5 in /home/codespace/.local/lib/python3.10/site-packages (from requests>=2.20->openai) (3.4)\n",
      "Requirement already satisfied: urllib3<3,>=1.21.1 in /home/codespace/.local/lib/python3.10/site-packages (from requests>=2.20->openai) (2.0.4)\n",
      "Requirement already satisfied: certifi>=2017.4.17 in /home/codespace/.local/lib/python3.10/site-packages (from requests>=2.20->openai) (2023.7.22)\n",
      "Requirement already satisfied: attrs>=17.3.0 in /home/codespace/.local/lib/python3.10/site-packages (from aiohttp->openai) (23.1.0)\n",
      "Requirement already satisfied: multidict<7.0,>=4.5 in /usr/local/python/3.10.8/lib/python3.10/site-packages (from aiohttp->openai) (6.0.4)\n",
      "Requirement already satisfied: async-timeout<5.0,>=4.0.0a3 in /usr/local/python/3.10.8/lib/python3.10/site-packages (from aiohttp->openai) (4.0.3)\n",
      "Requirement already satisfied: yarl<2.0,>=1.0 in /usr/local/python/3.10.8/lib/python3.10/site-packages (from aiohttp->openai) (1.9.2)\n",
      "Requirement already satisfied: frozenlist>=1.1.1 in /usr/local/python/3.10.8/lib/python3.10/site-packages (from aiohttp->openai) (1.4.0)\n",
      "Requirement already satisfied: aiosignal>=1.1.2 in /usr/local/python/3.10.8/lib/python3.10/site-packages (from aiohttp->openai) (1.3.1)\n",
      "\u001b[33mDEPRECATION: textract 1.6.5 has a non-standard dependency specifier extract-msg<=0.29.*. pip 23.3 will enforce this behaviour change. A possible replacement is to upgrade to a newer version of textract or contact the author to suggest that they release a version with a conforming dependency specifiers. Discussion can be found at https://github.com/pypa/pip/issues/12063\u001b[0m\u001b[33m\n",
      "\u001b[0mNote: you may need to restart the kernel to use updated packages.\n"
     ]
    }
   ],
   "source": [
    "%pip install openai==0.28.0"
   ]
  },
  {
   "cell_type": "markdown",
   "metadata": {},
   "source": [
    "# openai 사용 선언과 키 설정"
   ]
  },
  {
   "cell_type": "code",
   "execution_count": 2,
   "metadata": {},
   "outputs": [],
   "source": [
    "import openai\n",
    "openai.api_key = \"sk-...\""
   ]
  },
  {
   "cell_type": "markdown",
   "metadata": {},
   "source": [
    "# ChatBot 실행"
   ]
  },
  {
   "cell_type": "code",
   "execution_count": 3,
   "metadata": {},
   "outputs": [
    {
     "name": "stdout",
     "output_type": "stream",
     "text": [
      "안녕하세요\n",
      "안녕하세요! 어떻게 도와드릴까요?\n",
      "날이 더워요\n",
      "더운 날씨에는 몸을 식히고 건강을 유지하기 위해 몇 가지 조치를 취할 수 있습니다. \n",
      "\n",
      "1. 물을 충분히 마시세요: 더운 날씨에는 몸이 수분을 빠르게 잃기 때문에 물을 충분히 마시는 것이 중요합니다. 실내에 계시거나 그늘진 곳에서 물을 자주 마시세요.\n",
      "\n",
      "2. 시원한 음식을 섭취하세요: 더운 날씨에는 식욕이 줄어들 수 있습니다. 가벼운 식사를 하고 신선한 과일과 채소를 섭취하여 몸을 시원하게 유지하세요.\n",
      "\n",
      "3. 옷을 적절히 입으세요: 가벼운, 통기성이 좋은 옷을 입어서 체온을 조절할 수 있도록 하세요. 모자나 선글라스를 착용하여 햇빛을 차단하는 것도 좋습니다.\n",
      "\n",
      "4. 실내에 머무르세요: 가장 더운 시간대인 오후에는 실내에 머무르는 것이 좋습니다. 에어컨이나 선풍기를 사용하여 실내를 시원하게 유지하세요.\n",
      "\n",
      "5. 외출 시 그늘진 곳을 찾으세요: 외출 시 그늘진 곳을 찾아서 머무르는 것이 좋습니다. 햇빛을 피하고 시원한 곳에서 휴식을 취하세요.\n",
      "\n",
      "더운 날씨에는 건강을 유지하기 위해 적절한 조치를 취하는 것이 중요합니다. 건강하고 시원한 여름을 보내시기 바랍니다!\n",
      "저녁은 뭘 먹으면 좋을까요\n",
      "저녁 식사에는 영양가 있는 식사를 챙기는 것이 중요합니다. 다양한 식재료를 활용하여 균형 잡힌 식단을 구성하는 것이 좋습니다. \n",
      "\n",
      "1. 단백질: 닭가슴살, 소고기, 생선, 계란 등의 단백질을 포함한 음식을 섭취하세요. 단백질은 근육을 유지하고 에너지를 공급하는 데 도움이 됩니다.\n",
      "\n",
      "2. 채소: 다양한 색상의 채소를 포함한 식사를 섭취하세요. 채소는 비타민, 미네랄, 식이섬유를 풍부하게 함유하고 있어 건강에 도움이 됩니다.\n",
      "\n",
      "3. 탄수화물: 현미, 귀리, 고구마 등의 고섬유 탄수화물을 선택하세요. 이러한 탄수화물은 에너지를 공급하고 포만감을 유지하는 데 도움이 됩니다.\n",
      "\n",
      "4. 유지물: 올리브 오일, 아보카도, 견과류 등의 건강한 지방을 포함한 음식을 섭취하세요. 이러한 지방은 영양소 흡수를 돕고 포만감을 유지하는 데 도움이 됩니다.\n",
      "\n",
      "5. 조리 방법: 튀김이나 과도한 기름 사용을 피하고, 조리 방법으로는 굽거나 삶는 것을 선택하는 것이 좋습니다. 건강한 조리 방법으로 영양소를 보존할 수 있습니다.\n",
      "\n",
      "식사 전에는 식재료의 신선도와 개인의 식이 제한 사항을 고려하여 식단을 구성하는 것이 좋습니다. 건강하고 맛있는 식사를 즐기세요!\n",
      "exit\n"
     ]
    }
   ],
   "source": [
    "\n",
    "MODEL = \"gpt-3.5-turbo\"\n",
    "messages = []\n",
    "\n",
    "while True:\n",
    "    user_message = input()\n",
    "    print(user_message, flush=True)\n",
    "    if user_message==\"exit\": break\n",
    "    messages.append({\"role\":\"user\", \"content\":user_message})\n",
    "\n",
    "    response = openai.ChatCompletion.create(\n",
    "        model=MODEL,\n",
    "        messages=messages,\n",
    "        temperature=0,\n",
    "    )\n",
    "\n",
    "    system_message = response[\"choices\"][0][\"message\"][\"content\"]\n",
    "    print(system_message, flush=True)\n",
    "    messages.append({\"role\":\"assistant\", \"content\":system_message})"
   ]
  },
  {
   "cell_type": "code",
   "execution_count": null,
   "metadata": {},
   "outputs": [],
   "source": []
  }
 ],
 "metadata": {
  "kernelspec": {
   "display_name": "Python 3",
   "language": "python",
   "name": "python3"
  },
  "language_info": {
   "codemirror_mode": {
    "name": "ipython",
    "version": 3
   },
   "file_extension": ".py",
   "mimetype": "text/x-python",
   "name": "python",
   "nbconvert_exporter": "python",
   "pygments_lexer": "ipython3",
   "version": "3.10.8"
  },
  "orig_nbformat": 4
 },
 "nbformat": 4,
 "nbformat_minor": 2
}
